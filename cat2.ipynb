{
  "nbformat": 4,
  "nbformat_minor": 0,
  "metadata": {
    "colab": {
      "provenance": [],
      "authorship_tag": "ABX9TyNuuqzkOqPkB6FW2FaBNy3c",
      "include_colab_link": true
    },
    "kernelspec": {
      "name": "python3",
      "display_name": "Python 3"
    },
    "language_info": {
      "name": "python"
    }
  },
  "cells": [
    {
      "cell_type": "markdown",
      "metadata": {
        "id": "view-in-github",
        "colab_type": "text"
      },
      "source": [
        "<a href=\"https://colab.research.google.com/github/njue752/data-science/blob/main/cat2.ipynb\" target=\"_parent\"><img src=\"https://colab.research.google.com/assets/colab-badge.svg\" alt=\"Open In Colab\"/></a>"
      ]
    },
    {
      "cell_type": "code",
      "execution_count": 1,
      "metadata": {
        "id": "Z2w5dfGQaDWa",
        "colab": {
          "base_uri": "https://localhost:8080/"
        },
        "outputId": "78306849-c085-4de0-8067-0cd33b0f9cb1"
      },
      "outputs": [
        {
          "output_type": "stream",
          "name": "stdout",
          "text": [
            "Predicted time in years: 22.16\n",
            " MAINTAINENCE NEEDED\n"
          ]
        }
      ],
      "source": [
        "from sklearn.model_selection import train_test_split\n",
        "from sklearn.ensemble import RandomForestRegressor\n",
        "import pandas as pd\n",
        "\n",
        "# Load data\n",
        "martin= pd.read_csv('/content/sensors.csv')\n",
        "\n",
        "# Assuming X contains your sensor data and y contains the time until failure\n",
        "X = martin[[\"device\", \"metric1\", \"metric2\", \"metric3\"]]\n",
        "y = martin[\"years\"]\n",
        "\n",
        "# Drop rows with NaN values in the target variable (y)\n",
        "data = pd.concat([X, y], axis=1)\n",
        "data = data.dropna(subset=[\"years\"])\n",
        "X = data.drop(\"years\", axis=1)\n",
        "y = data[\"years\"]\n",
        "\n",
        "# One-hot encode the \"device\" column\n",
        "X = pd.get_dummies(X, columns=[\"device\"], drop_first=True)\n",
        "\n",
        "# Split the data\n",
        "X_train, X_test, y_train, y_test = train_test_split(X, y, test_size=0.2, random_state=42)\n",
        "\n",
        "# Initialize the model\n",
        "model = RandomForestRegressor()\n",
        "\n",
        "# Fit the model to the training data\n",
        "model.fit(X_train, y_train)\n",
        "\n",
        "# Use the model for predictions\n",
        " #MODIFY TO METRICS GOTTEN FOR NEW DATA\n",
        "new_data = pd.DataFrame({\n",
        "    \"device\": [\"S1F01085\"],\n",
        "    \"metric1\": [215630672],\n",
        "    \"metric2\": [6],\n",
        "    \"metric3\": [403174]\n",
        "})\n",
        "\n",
        "# One-hot encode the \"device\" column in the new data\n",
        "new_data = pd.get_dummies(new_data, columns=[\"device\"], drop_first=True)\n",
        "\n",
        "# Make sure the columns are aligned\n",
        "new_data = new_data.reindex(columns=X.columns, fill_value=0)\n",
        "#prediction\n",
        "predicted_time_until_failure = model.predict(new_data)\n",
        "print(f\"Predicted time in years: {predicted_time_until_failure[0]}\")\n",
        "#to decide if need be a maintenance\n",
        "maintenance_threshold = 2855765\n",
        "if predicted_time_until_failure[0] < maintenance_threshold:\n",
        "    print(\" MAINTAINENCE NEEDED\")\n",
        "else:\n",
        "    print(\"Machine is OKAY\")"
      ]
    }
  ]
}